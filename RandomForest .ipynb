{
 "cells": [
  {
   "cell_type": "code",
   "execution_count": null,
   "id": "f33dd513-598d-43fa-acfe-9aff6a7f3019",
   "metadata": {},
   "outputs": [],
   "source": [
    "import pandas as pd\n",
    "\n",
    "# Importar los datos\n",
    "df = pd.read_csv(\"manufacturing_defect_dataset_OK .csv\", sep=';', engine='python')"
   ]
  },
  {
   "cell_type": "code",
   "execution_count": null,
   "id": "588c0955-a225-4314-87d3-1dc2002b1a18",
   "metadata": {},
   "outputs": [],
   "source": [
    "X = df.drop(\"DefectStatus\", axis=1)\n",
    "y = df[\"DefectStatus\"]\n",
    "\n",
    "from sklearn.model_selection import train_test_split\n",
    "\n",
    "X_train, X_test, y_train, y_test = train_test_split(\n",
    "    X, y, test_size=0.2, random_state=42, stratify=y\n",
    ")\n"
   ]
  },
  {
   "cell_type": "code",
   "execution_count": null,
   "id": "adbe03b7-b95f-4d15-92c8-54de66ec5312",
   "metadata": {},
   "outputs": [],
   "source": [
    "from sklearn.ensemble import RandomForestClassifier\n",
    "\n",
    "# Entrenar modelo Random Forest con valores por defecto\n",
    "modelo_rf_base = RandomForestClassifier(random_state=42)\n",
    "modelo_rf_base.fit(X_train, y_train)\n"
   ]
  },
  {
   "cell_type": "code",
   "execution_count": null,
   "id": "b3b43be5-375c-45e9-9d3d-35c0a0f9d776",
   "metadata": {},
   "outputs": [],
   "source": [
    "from sklearn.metrics import classification_report, confusion_matrix\n",
    "\n",
    "# Predicciones del modelo base\n",
    "y_pred_rf_base = modelo_rf_base.predict(X_test)\n",
    "y_proba = modelo_rf_base.predict_proba(X_test)[:, 1]\n",
    "\n",
    "# Evaluación\n",
    "print(classification_report(y_test, y_pred_rf_base))\n",
    "print(confusion_matrix(y_test, y_pred_rf_base))\n",
    "print(\"ROC-AUC:\", roc_auc_score(y_test,y_proba))"
   ]
  },
  {
   "cell_type": "code",
   "execution_count": null,
   "id": "c74f7ac0-1cc0-4319-8b3d-952914052316",
   "metadata": {},
   "outputs": [],
   "source": [
    "fpr, tpr, _ = roc_curve(y_test, y_proba)\n",
    "plt.figure(figsize=(8,6))\n",
    "plt.plot(fpr, tpr, label=f\"ROC-AUC = {roc_auc_score(y_test, y_proba):.2f}\")\n",
    "plt.plot([0, 1], [0, 1], 'k--')\n",
    "plt.xlabel(\"Tasa de falsos positivos\")\n",
    "plt.ylabel(\"Tasa de verdaderos positivos\")\n",
    "plt.title(\"Curva ROC - RF\")\n",
    "plt.legend()\n",
    "plt.grid()\n",
    "plt.show()"
   ]
  },
  {
   "cell_type": "code",
   "execution_count": null,
   "id": "d59a1e01-3e08-4baf-ad31-58f3e0b68868",
   "metadata": {},
   "outputs": [],
   "source": [
    "param_grid = {\n",
    "    'n_estimators': [100, 200],           # número de árboles\n",
    "    'max_depth': [None, 10, 20],          # profundidad máxima\n",
    "    'min_samples_split': [2, 5],          # mínimo de muestras para dividir\n",
    "    'min_samples_leaf': [1, 2],           # mínimo de muestras en una hoja\n",
    "    'criterion': ['gini', 'entropy']      # función de impureza\n",
    "}\n"
   ]
  },
  {
   "cell_type": "code",
   "execution_count": null,
   "id": "c9e54f02-7c4d-4505-b029-5672eeabd1d4",
   "metadata": {},
   "outputs": [],
   "source": [
    "from sklearn.model_selection import GridSearchCV\n",
    "\n",
    "grid_search_rf = GridSearchCV(\n",
    "    estimator=RandomForestClassifier(random_state=42),\n",
    "    param_grid=param_grid,\n",
    "    cv=5,\n",
    "    scoring='recall',\n",
    "    n_jobs=-1,\n",
    "    verbose=1\n",
    ")\n",
    "\n",
    "grid_search_rf.fit(X_train, y_train)\n"
   ]
  },
  {
   "cell_type": "code",
   "execution_count": null,
   "id": "0df57712-9cc9-4ade-b7da-59dd8e0e42e7",
   "metadata": {},
   "outputs": [],
   "source": [
    "mejor_rf = grid_search_rf.best_estimator_\n",
    "mejor_rf.fit(X_train, y_train)  # este paso es opcional si ya lo hizo internamente\n"
   ]
  },
  {
   "cell_type": "code",
   "execution_count": null,
   "id": "dca7573a-8e69-4024-8510-d8166d09338f",
   "metadata": {},
   "outputs": [],
   "source": [
    "y_pred_rf_ajustado = mejor_rf.predict(X_test)\n",
    "\n",
    "\n",
    "print(\"Mejor modelo - Random Forest\")\n",
    "print(classification_report(y_test, y_pred_rf_ajustado))\n",
    "print(confusion_matrix(y_test, y_pred_rf_ajustado))\n",
    "print(\"Mejores hiperparámetros:\", grid_search_rf.best_params_)\n",
    "print(\"ROC-AUC:\", roc_auc_score(y_test,y_prob_rf_balancead))"
   ]
  },
  {
   "cell_type": "code",
   "execution_count": null,
   "id": "9cacad75-9aa7-4e73-b125-2983d3bfe0fb",
   "metadata": {},
   "outputs": [],
   "source": [
    "fpr, tpr, _ = roc_curve(y_test, y_prob_rf_balancead)\n",
    "plt.figure(figsize=(8,6))\n",
    "plt.plot(fpr, tpr, label=f\"ROC-AUC = {roc_auc_score(y_test, y_prob_rf_balancead):.2f}\")\n",
    "plt.plot([0, 1], [0, 1], 'k--')\n",
    "plt.xlabel(\"Tasa de falsos positivos\")\n",
    "plt.ylabel(\"Tasa de verdaderos positivos\")\n",
    "plt.title(\"Curva ROC - Regresión Logística\")\n",
    "plt.legend()\n",
    "plt.grid()\n",
    "plt.show()"
   ]
  },
  {
   "cell_type": "code",
   "execution_count": null,
   "id": "ca668853-1dab-45f7-819c-a0e961768924",
   "metadata": {},
   "outputs": [],
   "source": [
    "from sklearn.metrics import ConfusionMatrixDisplay, confusion_matrix\n",
    "import matplotlib.pyplot as plt\n",
    "\n",
    "\n",
    "cm = confusion_matrix(y_test, y_pred_rf_base)\n",
    "\n",
    "\n",
    "disp = ConfusionMatrixDisplay(\n",
    "    confusion_matrix=cm,\n",
    "    display_labels=[\"No defectuoso\", \"Defectuoso\"]\n",
    ")\n",
    "\n",
    "\n",
    "plt.figure(figsize=(6, 5))\n",
    "disp.plot(cmap='Reds', values_format='d')\n",
    "plt.title(\"Matriz de confusión - Random Forest (modelo base)\")\n",
    "plt.xlabel(\"Predicción del modelo\")\n",
    "plt.ylabel(\"Clase real\")\n",
    "plt.grid(False)\n",
    "plt.tight_layout()\n",
    "plt.show()\n"
   ]
  },
  {
   "cell_type": "code",
   "execution_count": null,
   "id": "77ab550f-23db-4124-af59-7855d35d554c",
   "metadata": {},
   "outputs": [],
   "source": [
    "import pandas as pd\n",
    "import numpy as np\n",
    "import matplotlib.pyplot as plt\n",
    "\n",
    "# Obtener importancias\n",
    "importancias = modelo_rf_base.feature_importances_\n",
    "nombres_vars = X.columns\n",
    "\n",
    "# Ordenarlas\n",
    "indices = np.argsort(importancias)\n",
    "\n",
    "# Plot\n",
    "plt.figure(figsize=(8, 5))\n",
    "plt.barh(range(len(importancias)), importancias[indices], align='center')\n",
    "plt.yticks(range(len(importancias)), [nombres_vars[i] for i in indices])\n",
    "plt.xlabel(\"Importancia \")\n",
    "plt.ylabel(\"Variable\")\n",
    "plt.title(\"Importancia de las variables - Random Forest\")\n",
    "plt.gca().invert_yaxis()\n",
    "plt.tight_layout()\n",
    "plt.show()"
   ]
  },
  {
   "cell_type": "code",
   "execution_count": null,
   "id": "705f9886-e8a8-43f9-85d6-05dabbb0e61b",
   "metadata": {},
   "outputs": [],
   "source": [
    "from sklearn.ensemble import RandomForestClassifier\n",
    "from sklearn.metrics import classification_report, confusion_matrix, roc_auc_score, roc_curve\n",
    "\n",
    "# Entrenar modelo base con ajuste por desbalanceo\n",
    "modelo_rf_balanced = RandomForestClassifier(class_weight='balanced', random_state=42)\n",
    "modelo_rf_balanced.fit(X_train, y_train)\n",
    "\n",
    "# Predicciones\n",
    "y_pred_rf_balanced = modelo_rf_balanced.predict(X_test)\n",
    "y_prob_rf_balancead = modelo_rf_balanced.predict_proba(X_test)[:, 1]\n",
    "# Evaluación\n",
    "from sklearn.metrics import classification_report, confusion_matrix\n",
    "\n",
    "print(\"Random Forest con class_weight='balanced'\")\n",
    "print(classification_report(y_test, y_pred_rf_balanced))\n",
    "print(confusion_matrix(y_test, y_pred_rf_balanced))\n",
    "print(\"ROC-AUC:\", roc_auc_score(y_test,y_prob_rf_balancead))"
   ]
  },
  {
   "cell_type": "code",
   "execution_count": null,
   "id": "44030df6-ce61-46ac-a177-38b719f424ee",
   "metadata": {},
   "outputs": [],
   "source": [
    "from sklearn.model_selection import GridSearchCV\n",
    "\n",
    "# Definir rejilla \n",
    "param_grid = {\n",
    "    'n_estimators': [300, 500],\n",
    "    'max_depth': [None, 10, 20],\n",
    "    'min_samples_split': [2, 5],\n",
    "    'min_samples_leaf': [1, 2],\n",
    "    'criterion': ['gini', 'entropy']\n",
    "}\n",
    "\n",
    "# GridSearch con class_weight fijo\n",
    "modelo_rf_grid = GridSearchCV(\n",
    "    estimator=RandomForestClassifier(class_weight='balanced', random_state=42),\n",
    "    param_grid=param_grid,\n",
    "    cv=5,\n",
    "    scoring='recall',\n",
    "    n_jobs=-1,\n",
    "    verbose=1\n",
    ")\n",
    "\n",
    "modelo_rf_grid.fit(X_train, y_train)\n",
    "\n",
    "# Evaluar el mejor modelo\n",
    "mejor_rf_bal = modelo_rf_grid.best_estimator_\n",
    "y_pred_mejor_rf_bal = mejor_rf_bal.predict(X_test)\n",
    "\n",
    "print(\"Modelo ajustado con class_weight='balanced'\")\n",
    "print(classification_report(y_test, y_pred_mejor_rf_bal))\n",
    "print(confusion_matrix(y_test, y_pred_mejor_rf_bal))\n",
    "print(\"Mejores hiperparámetros:\", modelo_rf_grid.best_params_)\n"
   ]
  },
  {
   "cell_type": "code",
   "execution_count": null,
   "id": "967ee903-887c-491e-bace-08e03af5d55e",
   "metadata": {},
   "outputs": [],
   "source": [
    "# Separar por clase\n",
    "df_clase0 = df[df[\"DefectStatus\"] == 0]\n",
    "df_clase1 = df[df[\"DefectStatus\"] == 1]\n",
    "\n",
    "# Número de muestras en clase minoritaria\n",
    "n_min = min(len(df_clase0), len(df_clase1))\n",
    "\n",
    "# Muestreo balanceado\n",
    "df_balanceado = pd.concat([\n",
    "    df_clase0.sample(n=n_min, random_state=42),\n",
    "    df_clase1.sample(n=n_min, random_state=42)\n",
    "])\n",
    "\n",
    "# Dividir en X e y\n",
    "X_bal = df_balanceado.drop(\"DefectStatus\", axis=1)\n",
    "y_bal = df_balanceado[\"DefectStatus\"]\n",
    "\n",
    "# División train-test\n",
    "from sklearn.model_selection import train_test_split\n",
    "\n",
    "X_train_bal, X_test_bal, y_train_bal, y_test_bal = train_test_split(\n",
    "    X_bal, y_bal, test_size=0.2, random_state=42, stratify=y_bal\n",
    ")\n"
   ]
  },
  {
   "cell_type": "code",
   "execution_count": null,
   "id": "7b33bc7f-8c1a-4b5a-8197-87f3dab0d41f",
   "metadata": {},
   "outputs": [],
   "source": [
    "modelo_rf_balanced_manual = RandomForestClassifier(random_state=42)\n",
    "modelo_rf_balanced_manual.fit(X_train_bal, y_train_bal)\n",
    "\n",
    "y_pred_manual = modelo_rf_balanced_manual.predict(X_test_bal)\n",
    "\n",
    "print(classification_report(y_test_bal, y_pred_manual))\n",
    "print(confusion_matrix(y_test_bal, y_pred_manual))\n"
   ]
  },
  {
   "cell_type": "code",
   "execution_count": null,
   "id": "fd17b199-df72-4542-8f19-2612ab330918",
   "metadata": {},
   "outputs": [],
   "source": [
    "import pandas as pd\n",
    "import numpy as np\n",
    "import matplotlib.pyplot as plt\n",
    "\n",
    "# Obtener importancias\n",
    "importancias = modelo_rf_base.feature_importances_\n",
    "nombres_vars = X.columns\n",
    "\n",
    "# Ordenarlas\n",
    "indices = np.argsort(importancias)\n",
    "\n",
    "# Plot\n",
    "plt.figure(figsize=(8, 5))\n",
    "plt.barh(range(len(importancias)), importancias[indices], align='center')\n",
    "plt.yticks(range(len(importancias)), [nombres_vars[i] for i in indices])\n",
    "plt.xlabel(\"Importancia \")\n",
    "plt.ylabel(\"Variable\")\n",
    "plt.title(\"Importancia de las variables - Random Forest\")\n",
    "plt.gca().invert_yaxis()\n",
    "plt.tight_layout()\n",
    "plt.show()\n"
   ]
  },
  {
   "cell_type": "code",
   "execution_count": null,
   "id": "8de986ca-3de0-4b45-8ff6-86e9a6faefcf",
   "metadata": {},
   "outputs": [],
   "source": [
    "pip install imbalanced-learn\n"
   ]
  },
  {
   "cell_type": "code",
   "execution_count": null,
   "id": "32d09a86-75e4-4028-af24-9049014aa8c1",
   "metadata": {},
   "outputs": [],
   "source": [
    "from imblearn.over_sampling import SMOTE\n",
    "from sklearn.ensemble import RandomForestClassifier\n",
    "from sklearn.metrics import classification_report, confusion_matrix\n",
    "from sklearn.model_selection import train_test_split\n",
    "\n",
    " Separar características y variable objetivo\n",
    "X = df.drop(\"DefectStatus\", axis=1)\n",
    "y = df[\"DefectStatus\"]\n",
    "\n",
    " Dividir en train y test\n",
    "X_train, X_test, y_train, y_test = train_test_split(\n",
    "    X, y, test_size=0.2, random_state=42, stratify=y\n",
    ")\n",
    "\n",
    "Aplicar SMOTE al conjunto de entrenamiento\n",
    "smote = SMOTE(random_state=42)\n",
    "X_train_sm, y_train_sm = smote.fit_resample(X_train, y_train)\n",
    "\n",
    " Entrenar el modelo con los datos balanceados\n",
    "modelo_rf_smote = RandomForestClassifier(random_state=42)\n",
    "modelo_rf_smote.fit(X_train_sm, y_train_sm)\n",
    "\n",
    " Evaluar en el conjunto de test original\n",
    "y_pred_smote = modelo_rf_smote.predict(X_test)\n",
    "\n",
    " Mostrar métricas\n",
    "print(\"Evaluación del modelo con SMOTE:\")\n",
    "print(classification_report(y_test, y_pred_smote))\n",
    "print(confusion_matrix(y_test, y_pred_smote))\n"
   ]
  },
  {
   "cell_type": "code",
   "execution_count": null,
   "id": "3c02822e-5f0f-44ee-b061-726ac1bb898f",
   "metadata": {},
   "outputs": [],
   "source": []
  }
 ],
 "metadata": {
  "kernelspec": {
   "display_name": "Python [conda env:base] *",
   "language": "python",
   "name": "conda-base-py"
  },
  "language_info": {
   "codemirror_mode": {
    "name": "ipython",
    "version": 3
   },
   "file_extension": ".py",
   "mimetype": "text/x-python",
   "name": "python",
   "nbconvert_exporter": "python",
   "pygments_lexer": "ipython3",
   "version": "3.12.7"
  }
 },
 "nbformat": 4,
 "nbformat_minor": 5
}
