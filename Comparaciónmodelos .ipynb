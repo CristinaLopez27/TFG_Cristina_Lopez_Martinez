{
 "cells": [
  {
   "cell_type": "code",
   "execution_count": null,
   "id": "cf99812c-2c69-4c98-a609-3c439fd91ea3",
   "metadata": {},
   "outputs": [],
   "source": [
    "import pandas as pd\n",
    "import numpy as np\n",
    "import matplotlib.pyplot as plt\n",
    "import seaborn as sns\n",
    "from sklearn.preprocessing import StandardScaler\n",
    "\n",
    "# Importar los datos\n",
    "df = pd.read_csv(\"manufacturing_defect_dataset_OK .csv\", sep=';', engine='python')"
   ]
  },
  {
   "cell_type": "code",
   "execution_count": null,
   "id": "60689dce-b144-488b-b36b-ee0a5c00edcb",
   "metadata": {},
   "outputs": [],
   "source": [
    "#ANALISIS EXPLORATORIO INICIAL"
   ]
  },
  {
   "cell_type": "code",
   "execution_count": null,
   "id": "1823d030-4abd-45e6-9f29-525530547de0",
   "metadata": {},
   "outputs": [],
   "source": [
    "df.head()"
   ]
  },
  {
   "cell_type": "code",
   "execution_count": null,
   "id": "4f6edc1e-10c7-42d0-ae9b-3c45db9341eb",
   "metadata": {},
   "outputs": [],
   "source": [
    "import pandas as pd\n",
    "\n",
    "# Importar los datos\n",
    "df = pd.read_csv(\"manufacturing_defect_dataset_OK .csv\", sep=';', engine='python')\n",
    "\n",
    "df.head()"
   ]
  },
  {
   "cell_type": "code",
   "execution_count": null,
   "id": "cc7e5d01-9676-46db-b286-2d8264d50358",
   "metadata": {},
   "outputs": [],
   "source": [
    "print(\"Tipos de datos por columna:\")\n",
    "print(df.dtypes)\n"
   ]
  },
  {
   "cell_type": "code",
   "execution_count": null,
   "id": "6788321e-a9d2-4ca6-8883-e04eed1bef26",
   "metadata": {},
   "outputs": [],
   "source": [
    "print(\"Valores nulos por columna:\")\n",
    "print(df.isnull().sum())\n"
   ]
  },
  {
   "cell_type": "code",
   "execution_count": null,
   "id": "0df61db9-5e0f-464f-95f9-f828d2a7e25a",
   "metadata": {},
   "outputs": [],
   "source": [
    "df.describe()"
   ]
  },
  {
   "cell_type": "code",
   "execution_count": null,
   "id": "d2ffb76c-959b-421a-b57b-371680526c67",
   "metadata": {},
   "outputs": [],
   "source": [
    "print(\"Distribución de la variable 'DefectStatus':\")\n",
    "print(df['DefectStatus'].value_counts(normalize=True))"
   ]
  },
  {
   "cell_type": "code",
   "execution_count": null,
   "id": "d7c51bf1-c498-459a-8193-a8d8bce999b3",
   "metadata": {},
   "outputs": [],
   "source": [
    "import matplotlib.pyplot as plt\n",
    "\n",
    "df.hist(bins=30, figsize=(15, 12))\n",
    "plt.tight_layout()\n",
    "plt.show()\n"
   ]
  },
  {
   "cell_type": "code",
   "execution_count": null,
   "id": "dd1b6bc7-0d5c-43f3-9141-54f5f21c06c7",
   "metadata": {},
   "outputs": [],
   "source": [
    "import matplotlib.pyplot as plt\n",
    "import seaborn as sns\n",
    "\n",
    "plt.figure(figsize=(14, 10))\n",
    "sns.heatmap(df.corr(), annot=True, fmt=\".2f\", cmap=\"coolwarm\", square=True)\n",
    "plt.title(\"Matriz de correlación entre variables\")\n",
    "plt.show()"
   ]
  },
  {
   "cell_type": "code",
   "execution_count": null,
   "id": "ac0ad4e7-a4c4-4ec1-8cf0-ffa2800a9509",
   "metadata": {},
   "outputs": [],
   "source": [
    "df.info()"
   ]
  },
  {
   "cell_type": "code",
   "execution_count": null,
   "id": "dae0b969-f1a9-44eb-9dd0-0ac84bfa1350",
   "metadata": {},
   "outputs": [],
   "source": [
    "df['DefectStatus'].value_counts().plot(kind='bar')"
   ]
  },
  {
   "cell_type": "code",
   "execution_count": null,
   "id": "9cf7d79d-5e6d-430f-8d22-80f1b8a97aa2",
   "metadata": {},
   "outputs": [],
   "source": [
    "# Comprobar si hay duplicados\n",
    "df.duplicated().sum()"
   ]
  },
  {
   "cell_type": "code",
   "execution_count": null,
   "id": "36a12571-e9a6-477b-8f47-7cc89abf296a",
   "metadata": {},
   "outputs": [],
   "source": [
    "from sklearn.model_selection import train_test_split\n",
    "\n",
    "X = df.drop(\"DefectStatus\", axis=1)\n",
    "y = df[\"DefectStatus\"]\n",
    "\n",
    "X_train, X_test, y_train, y_test = train_test_split(\n",
    "    X, y,\n",
    "    test_size=0.2,\n",
    "    stratify=y,\n",
    "    random_state=42\n",
    ")\n",
    "\n",
    "# 3. Verificación (opcional) de proporciones de clases\n",
    "print(\"Proporción de clases en el conjunto de entrenamiento:\")\n",
    "print(y_train.value_counts(normalize=True))\n",
    "\n",
    "print(\"\\nProporción de clases en el conjunto de prueba:\")\n",
    "print(y_test.value_counts(normalize=True))\n"
   ]
  },
  {
   "cell_type": "code",
   "execution_count": null,
   "id": "4b1b0ae7-cf29-49e8-8b1d-3ab074186949",
   "metadata": {},
   "outputs": [],
   "source": [
    "print(X_train.shape, X_test.shape)"
   ]
  },
  {
   "cell_type": "code",
   "execution_count": null,
   "id": "2d42bc2e-3e10-470b-aa2b-6ad12441296c",
   "metadata": {},
   "outputs": [],
   "source": [
    "# Escalar los datos\n",
    "scaler = StandardScaler()\n",
    "X_train_scaled = scaler.fit_transform(X_train)\n",
    "X_test_scaled = scaler.transform(X_test)\n"
   ]
  },
  {
   "cell_type": "code",
   "execution_count": null,
   "id": "d20303cb-43c0-4868-89ea-ce19b1e9d6b3",
   "metadata": {},
   "outputs": [],
   "source": [
    "#REGRESIÓN LOGÍSTICA"
   ]
  },
  {
   "cell_type": "code",
   "execution_count": null,
   "id": "8c8f314c-e9b0-4e28-b828-f290ead7dfe0",
   "metadata": {},
   "outputs": [],
   "source": [
    "from sklearn.linear_model import LogisticRegression\n",
    "from sklearn.model_selection import GridSearchCV"
   ]
  },
  {
   "cell_type": "code",
   "execution_count": null,
   "id": "c89e6cab-1155-4de3-91fd-e43388778537",
   "metadata": {},
   "outputs": [],
   "source": [
    "logreg = LogisticRegression(max_iter=5000, solver='liblinear', random_state=42)\n",
    "\n",
    "param_grid = {\n",
    "    'C': [0.1, 1, 10]\n",
    "}\n",
    "\n",
    "grid_search = GridSearchCV(logreg, param_grid, scoring='roc_auc', cv=5, n_jobs=-1)\n",
    "grid_search.fit(X_train_scaled, y_train)\n",
    "\n",
    "best_logreg = grid_search.best_estimator_\n",
    "print(\"Mejores hiperparámetros encontrados:\", grid_search.best_params_)"
   ]
  },
  {
   "cell_type": "code",
   "execution_count": null,
   "id": "95998b3d-4e9b-4bab-9383-10812d2bd1c1",
   "metadata": {},
   "outputs": [],
   "source": [
    "from sklearn.metrics import classification_report, confusion_matrix, roc_auc_score, roc_curve\n",
    "\n",
    "y_pred = best_logreg.predict(X_test_scaled)\n",
    "y_proba_RL = best_logreg.predict_proba(X_test_scaled)[:, 1]\n",
    "\n",
    "print(\"\\nInforme de clasificación:\")\n",
    "print(classification_report(y_test, y_pred))\n",
    "print(\"ROC-AUC:\", roc_auc_score(y_test, y_proba_RL))\n",
    "print(\"Matriz de confusión:\\n\", confusion_matrix(y_test, y_pred))"
   ]
  },
  {
   "cell_type": "code",
   "execution_count": null,
   "id": "cc31ff25-f133-4056-a49e-7db939c351ea",
   "metadata": {},
   "outputs": [],
   "source": [
    "fpr, tpr, _ = roc_curve(y_test, y_proba_RL)\n",
    "plt.figure(figsize=(8,6))\n",
    "plt.plot(fpr, tpr, label=f\"ROC-AUC = {roc_auc_score(y_test, y_proba_RL):.2f}\")\n",
    "plt.plot([0, 1], [0, 1], 'k--')\n",
    "plt.xlabel(\"Tasa de falsos positivos\")\n",
    "plt.ylabel(\"Tasa de verdaderos positivos\")\n",
    "plt.title(\"Curva ROC - Regresión Logística\")\n",
    "plt.legend()\n",
    "plt.grid()\n",
    "plt.show()"
   ]
  },
  {
   "cell_type": "code",
   "execution_count": null,
   "id": "e18eed55-32a8-4628-b31a-343b1243988c",
   "metadata": {
    "scrolled": true
   },
   "outputs": [],
   "source": [
    "\n",
    "conf_matrix = np.array([[39, 64],\n",
    "                        [16, 529]])\n",
    "\n",
    "df_cm_simple = pd.DataFrame(conf_matrix,\n",
    "                            index=[\"0\", \"1\"],\n",
    "                            columns=[\"0\", \"1\"])\n",
    "\n",
    "\n",
    "plt.figure(figsize=(6.5, 6))\n",
    "sns.heatmap(df_cm_simple, annot=True, fmt='d', cmap='Reds', cbar=True,\n",
    "            linewidths=0.5, linecolor='gray', annot_kws={\"size\": 12})\n",
    "plt.title(\"Matriz de Confusión - Regresión Logística\", fontsize=14, pad=12)\n",
    "plt.xlabel(\"Predicted\", fontsize=12)\n",
    "plt.ylabel(\"Actual\", fontsize=12)\n",
    "plt.xticks(fontsize=11)\n",
    "plt.yticks(fontsize=11, rotation=0)\n",
    "plt.tight_layout()\n",
    "plt.show()"
   ]
  },
  {
   "cell_type": "code",
   "execution_count": null,
   "id": "2b27153b-2fd4-48d0-9fb7-a8481bb577b8",
   "metadata": {},
   "outputs": [],
   "source": [
    "from sklearn.metrics import precision_recall_curve\n",
    "\n",
    "precision, recall, thresholds = precision_recall_curve(y_test, y_proba_RL)\n",
    "\n",
    "plt.plot(thresholds, precision[:-1], label='Precision')\n",
    "plt.plot(thresholds, recall[:-1], label='Recall')\n",
    "plt.xlabel('Umbral')\n",
    "plt.ylabel('Métrica')\n",
    "plt.title('Precisión y recall según el umbral de decisión')\n",
    "plt.legend()\n",
    "plt.grid()\n",
    "plt.show()\n"
   ]
  },
  {
   "cell_type": "code",
   "execution_count": null,
   "id": "0c98e939-89b4-4cf9-b713-96ef81298be4",
   "metadata": {},
   "outputs": [],
   "source": [
    "#MEJORA REGRESIÓN LOGÍSTICA"
   ]
  },
  {
   "cell_type": "code",
   "execution_count": null,
   "id": "83f03f00-bdc2-4381-bdd2-c3bd33a96017",
   "metadata": {},
   "outputs": [],
   "source": [
    "# Cambiar el umbral de decisión\n",
    "nuevo_umbral = 0.6\n",
    "y_pred_umbral = (y_proba_RL>= nuevo_umbral).astype(int)\n",
    "\n",
    "# Evaluar con el nuevo umbral\n",
    "from sklearn.metrics import classification_report, confusion_matrix, roc_auc_score\n",
    "\n",
    "print(\"Informe con umbral = 0.6\")\n",
    "print(classification_report(y_test, y_pred_umbral))\n",
    "print(\"Matriz de confusión:\\n\", confusion_matrix(y_test, y_pred_umbral))\n",
    "print(\"ROC-AUC:\", roc_auc_score(y_test, y_proba_RL))"
   ]
  },
  {
   "cell_type": "code",
   "execution_count": null,
   "id": "8594328d-c003-4984-b7ac-3dbcdd42b4da",
   "metadata": {},
   "outputs": [],
   "source": [
    "fpr, tpr, _ = roc_curve(y_test, y_proba_RL)\n",
    "plt.figure(figsize=(8,6))\n",
    "plt.plot(fpr, tpr, label=f\"ROC-AUC = {roc_auc_score(y_test, y_proba_RL):.2f}\")\n",
    "plt.plot([0, 1], [0, 1], 'k--')\n",
    "plt.xlabel(\"Tasa de falsos positivos\")\n",
    "plt.ylabel(\"Tasa de verdaderos positivos\")\n",
    "plt.title(\"Curva ROC - Regresión Logística (umbral 0.6)\")\n",
    "plt.legend()\n",
    "plt.grid()\n",
    "plt.show()"
   ]
  },
  {
   "cell_type": "code",
   "execution_count": null,
   "id": "695c3f29-1ab9-456d-9cdb-b43367edfa4e",
   "metadata": {},
   "outputs": [],
   "source": [
    "# Definir la matriz de confusión \n",
    "conf_matrix = np.array([[51, 52],\n",
    "                        [29, 516]])\n",
    "\n",
    "\n",
    "df_cm_simple = pd.DataFrame(conf_matrix,\n",
    "                            index=[\"0\", \"1\"],\n",
    "                            columns=[\"0\", \"1\"])\n",
    "\n",
    "\n",
    "plt.figure(figsize=(6.5, 6))\n",
    "sns.heatmap(df_cm_simple, annot=True, fmt='d', cmap='Reds', cbar=True,\n",
    "            linewidths=0.5, linecolor='gray', annot_kws={\"size\": 12})\n",
    "plt.title(\"Matriz de Confusión - Regresión Logística (Umbral=0.6)\", fontsize=14, pad=12)\n",
    "plt.xlabel(\"Predicted\", fontsize=12)\n",
    "plt.ylabel(\"Actual\", fontsize=12)\n",
    "plt.xticks(fontsize=11)\n",
    "plt.yticks(fontsize=11, rotation=0)\n",
    "plt.tight_layout()\n",
    "plt.show()"
   ]
  },
  {
   "cell_type": "code",
   "execution_count": null,
   "id": "1f075e05-9613-4df5-b226-d3c47fbe7a47",
   "metadata": {},
   "outputs": [],
   "source": [
    "from sklearn.model_selection import train_test_split\n",
    "\n",
    "# Separar por clase\n",
    "X_class_0 = X[y == 0]\n",
    "X_class_1 = X[y == 1]\n",
    "y_class_0 = y[y == 0]\n",
    "y_class_1 = y[y == 1]\n",
    "\n",
    "# Seleccionar el mismo número de muestras para test\n",
    "n_test = min(len(X_class_0), len(X_class_1), 100)  # por ejemplo 100 de cada clase\n",
    "\n",
    "X_0_test, X_0_remain, y_0_test, y_0_remain = train_test_split(X_class_0, y_class_0, test_size=(len(X_class_0)-n_test), random_state=42)\n",
    "X_1_test, X_1_remain, y_1_test, y_1_remain = train_test_split(X_class_1, y_class_1, test_size=(len(X_class_1)-n_test), random_state=42)\n",
    "\n",
    "# Crear conjunto de test final (balanceado)\n",
    "X_test_bal = pd.concat([X_0_test, X_1_test])\n",
    "y_test_bal = pd.concat([y_0_test, y_1_test])\n"
   ]
  },
  {
   "cell_type": "code",
   "execution_count": null,
   "id": "40b70547-8a14-4c43-ac0a-1f643a1f9e17",
   "metadata": {},
   "outputs": [],
   "source": [
    "n_iter = len(X_1_remain) // len(X_0_remain)\n",
    "bloques_X1 = np.array_split(X_1_remain, n_iter)\n",
    "bloques_y1 = np.array_split(y_1_remain, n_iter)"
   ]
  },
  {
   "cell_type": "code",
   "execution_count": null,
   "id": "72004271-89bd-4ae6-b90c-b297252a3384",
   "metadata": {},
   "outputs": [],
   "source": [
    "modelos = []\n",
    "predicciones = []\n",
    "\n",
    "for i in range(n_iter):\n",
    "    # Crear conjunto balanceado para esta iteración\n",
    "    X_train_iter = pd.concat([X_0_remain, bloques_X1[i]])\n",
    "    y_train_iter = pd.concat([y_0_remain, bloques_y1[i]])\n",
    "\n",
    "    \n",
    "    model = LogisticRegression(max_iter=5000, solver='liblinear', random_state=42)\n",
    "    model.fit(X_train_iter, y_train_iter)\n",
    "\n",
    "    \n",
    "    pred = model.predict(X_test_bal)\n",
    "    predicciones.append(pred)\n",
    "    modelos.append(model)"
   ]
  },
  {
   "cell_type": "code",
   "execution_count": null,
   "id": "0221eb82-3e4d-4550-9fea-b060f256de68",
   "metadata": {},
   "outputs": [],
   "source": [
    "from scipy.stats import mode\n",
    "\n",
    "# Convertir lista a matriz (n_iteraciones x n_test_muestras)\n",
    "predicciones_matrix = np.array(predicciones)\n",
    "\n",
    "# Votación por mayoría\n",
    "y_pred_final = mode(predicciones_matrix, axis=0).mode.flatten()\n"
   ]
  },
  {
   "cell_type": "code",
   "execution_count": null,
   "id": "e14d04aa-3d21-4260-b979-c3e47d84b5b2",
   "metadata": {},
   "outputs": [],
   "source": [
    "\n",
    "print(\"Informe de clasificación:\\n\", classification_report(y_test_bal, y_pred_final))\n",
    "print(\"Matriz de confusión:\\n\", confusion_matrix(y_test_bal, y_pred_final))\n"
   ]
  },
  {
   "cell_type": "code",
   "execution_count": null,
   "id": "25bbd222-7c6b-4a69-b07f-309d6421efcf",
   "metadata": {},
   "outputs": [],
   "source": [
    "\n",
    "conf_matrix = np.array([[72, 28],\n",
    "                        [24, 76]])\n",
    "\n",
    "\n",
    "df_cm_simple = pd.DataFrame(conf_matrix,\n",
    "                            index=[\"0\", \"1\"],\n",
    "                            columns=[\"0\", \"1\"])\n",
    "\n",
    "\n",
    "plt.figure(figsize=(6.5, 6))\n",
    "sns.heatmap(df_cm_simple, annot=True, fmt='d', cmap='Reds', cbar=True,\n",
    "            linewidths=0.5, linecolor='gray', annot_kws={\"size\": 12})\n",
    "plt.title(\"Matriz de Confusión - Regresión Logística \", fontsize=14, pad=12)\n",
    "plt.xlabel(\"Predicted\", fontsize=12)\n",
    "plt.ylabel(\"Actual\", fontsize=12)\n",
    "plt.xticks(fontsize=11)\n",
    "plt.yticks(fontsize=11, rotation=0)\n",
    "plt.tight_layout()\n",
    "plt.show()"
   ]
  },
  {
   "cell_type": "code",
   "execution_count": null,
   "id": "f2264f5c-8c16-4071-bd07-a4428b39cc33",
   "metadata": {},
   "outputs": [],
   "source": [
    "#ARBOLES DE DECISION"
   ]
  },
  {
   "cell_type": "code",
   "execution_count": null,
   "id": "257ea221-09c1-489b-905b-e0b8d0b21d7c",
   "metadata": {},
   "outputs": [],
   "source": [
    "from sklearn.tree import DecisionTreeClassifier\n",
    "\n",
    "X_train, X_test, y_train, y_test = train_test_split(X, y, test_size=0.2, random_state=42, stratify=y)\n",
    "\n",
    "tree = DecisionTreeClassifier(random_state=42)\n",
    "tree.fit(X_train, y_train)\n",
    "\n",
    "\n",
    "y_pred = tree.predict(X_test)\n",
    "y_proba_tree = tree.predict_proba(X_test)[:, 1]\n",
    "\n",
    "print(classification_report(y_test, y_pred))\n",
    "print(\"Evaluación del modelo :\")\n",
    "\n",
    "print(confusion_matrix(y_test, y_pred))\n",
    "\n",
    "print(\"ROC-AUC:\", roc_auc_score(y_test, y_proba_tree))"
   ]
  },
  {
   "cell_type": "code",
   "execution_count": null,
   "id": "0f872e9b-4636-408b-8a06-0f825ea04563",
   "metadata": {},
   "outputs": [],
   "source": [
    "fpr, tpr, _ = roc_curve(y_test, y_proba_tree)\n",
    "plt.figure(figsize=(8,6))\n",
    "plt.plot(fpr, tpr, label=f\"ROC-AUC = {roc_auc_score(y_test, y_proba_tree):.2f}\")\n",
    "plt.plot([0, 1], [0, 1], 'k--')\n",
    "plt.xlabel(\"Tasa de falsos positivos\")\n",
    "plt.ylabel(\"Tasa de verdaderos positivos\")\n",
    "plt.title(\"Curva ROC - Arbol de decisión\")\n",
    "plt.legend()\n",
    "plt.grid()\n",
    "plt.show()"
   ]
  },
  {
   "cell_type": "code",
   "execution_count": null,
   "id": "9a65ef8d-4cc6-4fe1-bbc5-6a072441c259",
   "metadata": {},
   "outputs": [],
   "source": [
    "#AJUSTE HIPERPARÁMETROS"
   ]
  },
  {
   "cell_type": "code",
   "execution_count": null,
   "id": "b5f0fec2-4c2d-4b13-9c1c-ef92679ebe85",
   "metadata": {},
   "outputs": [],
   "source": [
    "param_grid = {\n",
    "    'max_depth': [3, 5, 10, None],\n",
    "    'min_samples_split': [2, 5, 10],\n",
    "    'min_samples_leaf': [1, 2, 4],\n",
    "    'criterion': ['gini', 'entropy']\n",
    "}"
   ]
  },
  {
   "cell_type": "code",
   "execution_count": null,
   "id": "75a3ded9-7cf5-46d7-bf93-95b4d6bef552",
   "metadata": {},
   "outputs": [],
   "source": [
    "grid_search = GridSearchCV(\n",
    "    estimator=DecisionTreeClassifier(random_state=42),\n",
    "    param_grid=param_grid,\n",
    "    cv=5,  # validación cruzada de 5 particiones\n",
    "    scoring='recall',  # métrica de optimización\n",
    "    n_jobs=-1,  # usa todos los núcleos del procesador\n",
    "    verbose=1\n",
    ")\n",
    "\n",
    "grid_search.fit(X_train, y_train)\n",
    "\n",
    "# Extraer los mejores hiperparámetros\n",
    "best_params = grid_search.best_params_\n",
    "\n",
    "print(\"Mejores hiperparámetros encontrados:\")\n",
    "print(grid_search.best_params_)"
   ]
  },
  {
   "cell_type": "code",
   "execution_count": null,
   "id": "e4ba89eb-8395-46d2-9471-cec5a5432d5a",
   "metadata": {},
   "outputs": [],
   "source": [
    "\n",
    "mejor_modelo_arb = DecisionTreeClassifier(**best_params, random_state=42)\n",
    "\n",
    "# Reentrenar \n",
    "mejor_modelo_arb.fit(X_train, y_train)\n",
    "\n",
    "# Evaluar \n",
    "y_pred_best = mejor_modelo_arb.predict(X_test)\n",
    "y_proba_best_tree = mejor_modelo_arb.predict_proba(X_test)[:, 1]\n",
    "\n",
    "print(\"Evaluación del modelo ajustado:\")\n",
    "print(classification_report(y_test, y_pred_best))\n",
    "print(confusion_matrix(y_test, y_pred_best))\n",
    "print(\"ROC-AUC:\", roc_auc_score(y_test, y_proba_best_tree))"
   ]
  },
  {
   "cell_type": "code",
   "execution_count": null,
   "id": "2ae84217-8711-4bff-9aa5-3795070e7967",
   "metadata": {},
   "outputs": [],
   "source": [
    "fpr, tpr, _ = roc_curve(y_test, y_proba_best_tree)\n",
    "plt.figure(figsize=(8,6))\n",
    "plt.plot(fpr, tpr, label=f\"ROC-AUC = {roc_auc_score(y_test, y_proba_best_tree):.2f}\")\n",
    "plt.plot([0, 1], [0, 1], 'k--')\n",
    "plt.xlabel(\"Tasa de falsos positivos\")\n",
    "plt.ylabel(\"Tasa de verdaderos positivos\")\n",
    "plt.title(\"Curva ROC - Arbol de decisión\")\n",
    "plt.legend()\n",
    "plt.grid()\n",
    "plt.show()"
   ]
  },
  {
   "cell_type": "code",
   "execution_count": null,
   "id": "109a378b-9829-4c57-b9c1-d76088bb713c",
   "metadata": {},
   "outputs": [],
   "source": [
    "from sklearn.tree import plot_tree\n",
    "\n",
    "\n",
    "plt.figure(figsize=(25, 15))\n",
    "plot_tree(mejor_modelo, filled=True, feature_names=X.columns, class_names=['No defectuoso', 'Defectuoso'])\n",
    "plt.show()\n"
   ]
  },
  {
   "cell_type": "code",
   "execution_count": null,
   "id": "b9cafc70-eec9-4971-a5a6-0774a606ede6",
   "metadata": {},
   "outputs": [],
   "source": [
    "conf_matrix = np.array([[75, 28],\n",
    "                        [6, 539]])\n",
    "\n",
    "\n",
    "df_cm_simple = pd.DataFrame(conf_matrix,\n",
    "                            index=[\"0\", \"1\"],\n",
    "                            columns=[\"0\", \"1\"])\n",
    "\n",
    "\n",
    "plt.figure(figsize=(6.5, 6))\n",
    "sns.heatmap(df_cm_simple, annot=True, fmt='d', cmap='Reds', cbar=True,\n",
    "            linewidths=0.5, linecolor='gray', annot_kws={\"size\": 12})\n",
    "plt.title(\"Matriz de Confusión - Árbol de decisión)\", fontsize=14, pad=12)\n",
    "plt.xlabel(\"Predicted\", fontsize=12)\n",
    "plt.ylabel(\"Actual\", fontsize=12)\n",
    "plt.xticks(fontsize=11)\n",
    "plt.yticks(fontsize=11, rotation=0)\n",
    "plt.tight_layout()\n",
    "plt.show()"
   ]
  },
  {
   "cell_type": "code",
   "execution_count": null,
   "id": "e0c247d0-eee6-47c2-9efb-46a170dba8de",
   "metadata": {},
   "outputs": [],
   "source": [
    "importancias = pd.Series(mejor_modelo_arb.feature_importances_, index=X.columns)\n",
    "importancias.nlargest(10).plot(kind='barh')\n",
    "\n",
    "plt.title('Importancia de las variables en el árbol de decisión')\n",
    "plt.xlabel('Importancia')\n",
    "plt.ylabel('Variable')\n",
    "plt.tight_layout()\n",
    "plt.show()\n"
   ]
  },
  {
   "cell_type": "code",
   "execution_count": null,
   "id": "8588e431-e259-42ca-bd12-485b64a7e72c",
   "metadata": {},
   "outputs": [],
   "source": [
    "#RANDOM FOREST"
   ]
  },
  {
   "cell_type": "code",
   "execution_count": null,
   "id": "6651fded-2992-4c15-945e-cdcd8ad998f4",
   "metadata": {},
   "outputs": [],
   "source": [
    "from sklearn.ensemble import RandomForestClassifier\n",
    "\n",
    "X_train, X_test, y_train, y_test = train_test_split(\n",
    "    X, y, test_size=0.2, random_state=42, stratify=y\n",
    ")"
   ]
  },
  {
   "cell_type": "code",
   "execution_count": null,
   "id": "1830a4af-bfed-467c-8596-37af4a144099",
   "metadata": {},
   "outputs": [],
   "source": [
    "# Entrenar modelo Random Forest con valores por defecto\n",
    "modelo_rf_base = RandomForestClassifier(random_state=42)\n",
    "modelo_rf_base.fit(X_train, y_train)"
   ]
  },
  {
   "cell_type": "code",
   "execution_count": null,
   "id": "d79c1749-6fd9-4ecd-9ef2-ec7b25fc3532",
   "metadata": {},
   "outputs": [],
   "source": [
    "\n",
    "y_pred_rf_base = modelo_rf_base.predict(X_test)\n",
    "y_proba_rf_base = modelo_rf_base.predict_proba(X_test)[:, 1]\n",
    "\n",
    "# Evaluación\n",
    "print(classification_report(y_test, y_pred_rf_base))\n",
    "print(confusion_matrix(y_test, y_pred_rf_base))\n",
    "print(\"ROC-AUC:\", roc_auc_score(y_test, y_proba_rf_base))"
   ]
  },
  {
   "cell_type": "code",
   "execution_count": null,
   "id": "4a5eede4-4442-4f29-8dfe-110bfbd39726",
   "metadata": {},
   "outputs": [],
   "source": [
    "#AJUSTE DE HIPERPARÁMETROS"
   ]
  },
  {
   "cell_type": "code",
   "execution_count": null,
   "id": "3e8f4c5b-c13a-4ba2-b84b-2b5789290cc2",
   "metadata": {},
   "outputs": [],
   "source": [
    "param_grid = {\n",
    "    'n_estimators': [100, 200],           # número de árboles\n",
    "    'max_depth': [None, 10, 20],          # profundidad máxima\n",
    "    'min_samples_split': [2, 5],          # mínimo de muestras para dividir\n",
    "    'min_samples_leaf': [1, 2],           # mínimo de muestras en una hoja\n",
    "    'criterion': ['gini', 'entropy']      # función de impureza\n",
    "}\n",
    "\n",
    "grid_search_rf = GridSearchCV(\n",
    "    estimator=RandomForestClassifier(random_state=42),\n",
    "    param_grid=param_grid,\n",
    "    cv=5,\n",
    "    scoring='recall',\n",
    "    n_jobs=-1,\n",
    "    verbose=1\n",
    ")\n",
    "\n",
    "grid_search_rf.fit(X_train, y_train)\n",
    "\n",
    "mejor_rf = grid_search_rf.best_estimator_\n",
    "\n",
    "print(\"Mejores hiperparámetros:\", grid_search_rf.best_params_)\n"
   ]
  },
  {
   "cell_type": "code",
   "execution_count": null,
   "id": "a9230347-5937-4bb6-b430-f55384d69ffa",
   "metadata": {},
   "outputs": [],
   "source": [
    "y_pred_rf_ajustado = mejor_rf.predict(X_test)\n",
    "y_proba_rf_ajustado = mejor_rf.predict_proba(X_test)[:, 1]\n",
    "\n",
    "print(\"Mejor modelo - Random Forest\")\n",
    "print(classification_report(y_test, y_pred_rf_ajustado))\n",
    "print(confusion_matrix(y_test, y_pred_rf_ajustado))\n",
    "print(\"ROC-AUC:\", roc_auc_score(y_test, y_proba_rf_ajustado))"
   ]
  },
  {
   "cell_type": "code",
   "execution_count": null,
   "id": "46f1b4ab-7a92-449a-b72f-508b69c66f15",
   "metadata": {},
   "outputs": [],
   "source": [
    "conf_matrix = np.array([[75, 28],\n",
    "                        [4, 541]])\n",
    "\n",
    "\n",
    "df_cm_simple = pd.DataFrame(conf_matrix,\n",
    "                            index=[\"0\", \"1\"],\n",
    "                            columns=[\"0\", \"1\"])\n",
    "\n",
    "\n",
    "plt.figure(figsize=(6.5, 6))\n",
    "sns.heatmap(df_cm_simple, annot=True, fmt='d', cmap='Reds', cbar=True,\n",
    "            linewidths=0.5, linecolor='gray', annot_kws={\"size\": 12})\n",
    "plt.title(\"Matriz de Confusión - Random Forest\", fontsize=14, pad=12)\n",
    "plt.xlabel(\"Predicted\", fontsize=12)\n",
    "plt.ylabel(\"Actual\", fontsize=12)\n",
    "plt.xticks(fontsize=11)\n",
    "plt.yticks(fontsize=11, rotation=0)\n",
    "plt.tight_layout()\n",
    "plt.show()"
   ]
  },
  {
   "cell_type": "code",
   "execution_count": null,
   "id": "be75f1a4-91f9-4fc9-b710-275df1814098",
   "metadata": {},
   "outputs": [],
   "source": [
    "fpr, tpr, _ = roc_curve(y_test, y_proba_rf_ajustado)\n",
    "plt.figure(figsize=(8,6))\n",
    "plt.plot(fpr, tpr, label=f\"ROC-AUC = {roc_auc_score(y_test, y_proba_rf_ajustado):.2f}\")\n",
    "plt.plot([0, 1], [0, 1], 'k--')\n",
    "plt.xlabel(\"Tasa de falsos positivos\")\n",
    "plt.ylabel(\"Tasa de verdaderos positivos\")\n",
    "plt.title(\"Curva ROC - Random Forest\")\n",
    "plt.legend()\n",
    "plt.grid()\n",
    "plt.show()"
   ]
  },
  {
   "cell_type": "code",
   "execution_count": null,
   "id": "07e7e76d-de4e-466a-941a-a28903fb6d0f",
   "metadata": {},
   "outputs": [],
   "source": [
    "# Obtener importancias\n",
    "importancias = modelo_rf_base.feature_importances_\n",
    "nombres_vars = X.columns\n",
    "\n",
    "# Ordenarlas\n",
    "indices = np.argsort(importancias)\n",
    "\n",
    "# Plot\n",
    "plt.figure(figsize=(8, 5))\n",
    "plt.barh(range(len(importancias)), importancias[indices], align='center')\n",
    "plt.yticks(range(len(importancias)), [nombres_vars[i] for i in indices])\n",
    "plt.xlabel(\"Importancia \")\n",
    "plt.ylabel(\"Variable\")\n",
    "plt.title(\"Importancia de las variables - Random Forest\")\n",
    "plt.gca().invert_yaxis()\n",
    "plt.tight_layout()\n",
    "plt.show()"
   ]
  },
  {
   "cell_type": "code",
   "execution_count": null,
   "id": "f17d39b4-4e02-4070-8047-1a5d56a9078b",
   "metadata": {},
   "outputs": [],
   "source": [
    "#MEJORA DEL MODELO RANDOM FOREST\n"
   ]
  },
  {
   "cell_type": "code",
   "execution_count": null,
   "id": "2646fdf5-1001-40f6-bf56-b7fd6bd709f7",
   "metadata": {},
   "outputs": [],
   "source": [
    "# Separar por clase\n",
    "df_clase0 = df[df[\"DefectStatus\"] == 0]\n",
    "df_clase1 = df[df[\"DefectStatus\"] == 1]\n",
    "\n",
    "# Número de muestras en clase minoritaria\n",
    "n_min = min(len(df_clase0), len(df_clase1))\n",
    "\n",
    "# Muestreo balanceado\n",
    "df_balanceado = pd.concat([\n",
    "    df_clase0.sample(n=n_min, random_state=42),\n",
    "    df_clase1.sample(n=n_min, random_state=42)\n",
    "])\n",
    "\n",
    "# Dividir en X e y\n",
    "X_bal = df_balanceado.drop(\"DefectStatus\", axis=1)\n",
    "y_bal = df_balanceado[\"DefectStatus\"]\n",
    "\n",
    "# División train-test\n",
    "from sklearn.model_selection import train_test_split\n",
    "\n",
    "X_train_bal, X_test_bal, y_train_bal, y_test_bal = train_test_split(\n",
    "    X_bal, y_bal, test_size=0.2, random_state=42, stratify=y_bal\n",
    ")"
   ]
  },
  {
   "cell_type": "code",
   "execution_count": null,
   "id": "50a14405-5cbf-45a5-9a79-7ac2c957c87e",
   "metadata": {},
   "outputs": [],
   "source": [
    "modelo_rf_balanced_manual = RandomForestClassifier(random_state=42)\n",
    "modelo_rf_balanced_manual.fit(X_train_bal, y_train_bal)\n",
    "\n",
    "y_pred_manual = modelo_rf_balanced_manual.predict(X_test_bal)\n",
    "\n",
    "print(classification_report(y_test_bal, y_pred_manual))\n",
    "print(confusion_matrix(y_test_bal, y_pred_manual))\n"
   ]
  },
  {
   "cell_type": "code",
   "execution_count": null,
   "id": "4a35f86d-c50e-4b9e-af96-a1a9df6e6ae7",
   "metadata": {},
   "outputs": [],
   "source": [
    "#XGBoost"
   ]
  },
  {
   "cell_type": "code",
   "execution_count": null,
   "id": "13aa9e79-0c22-4bba-8431-d04aacad02f7",
   "metadata": {},
   "outputs": [],
   "source": [
    "pip install xgboost\n"
   ]
  },
  {
   "cell_type": "code",
   "execution_count": null,
   "id": "7e23f315-9614-4202-9606-49687f442f03",
   "metadata": {},
   "outputs": [],
   "source": []
  },
  {
   "cell_type": "code",
   "execution_count": null,
   "id": "c97cb2d5-f335-49f4-a500-12b61f7ff485",
   "metadata": {},
   "outputs": [],
   "source": [
    "from xgboost import XGBClassifier\n",
    "\n",
    "\n",
    "xgb_default = XGBClassifier(\n",
    "    use_label_encoder=False,\n",
    "    eval_metric='logloss',\n",
    "    n_estimators=50,  \n",
    "    random_state=42\n",
    ")\n",
    "\n",
    "\n",
    "\n",
    "xgb_default.fit(X_train, y_train)\n",
    "\n",
    "\n",
    "y_pred_xgb = xgb_default.predict(X_test)\n",
    "y_proba_xgb = xgb_default.predict_proba(X_test)[:, 1]\n",
    "\n",
    "\n",
    "print(\"Matriz de confusión:\")\n",
    "print(confusion_matrix(y_test, y_pred_xgb))\n",
    "print(\"\\nInforme de clasificación:\")\n",
    "print(classification_report(y_test, y_pred_xgb))\n",
    "print(\"ROC-AUC:\", roc_auc_score(y_test, y_proba_xgb))"
   ]
  },
  {
   "cell_type": "code",
   "execution_count": null,
   "id": "4d6e8724-4683-4d4d-8f79-1e0528509542",
   "metadata": {},
   "outputs": [],
   "source": [
    "fpr, tpr, _ = roc_curve(y_test, y_proba_xgb)\n",
    "plt.figure(figsize=(8,6))\n",
    "plt.plot(fpr, tpr, label=f\"ROC-AUC = {roc_auc_score(y_test, y_proba_xgb):.2f}\")\n",
    "plt.plot([0, 1], [0, 1], 'k--')\n",
    "plt.xlabel(\"Tasa de falsos positivos\")\n",
    "plt.ylabel(\"Tasa de verdaderos positivos\")\n",
    "plt.title(\"Curva ROC - XGBoost\")\n",
    "plt.legend()\n",
    "plt.grid()\n",
    "plt.show()"
   ]
  },
  {
   "cell_type": "code",
   "execution_count": null,
   "id": "413d117f-6ac4-4ff5-9c91-50e0e4c5b53d",
   "metadata": {},
   "outputs": [],
   "source": [
    "from sklearn.model_selection import RandomizedSearchCV\n",
    "from scipy.stats import uniform, randint\n",
    "\n",
    "param_dist = {\n",
    "    'n_estimators': randint(100, 300),\n",
    "    'max_depth': randint(3, 10),\n",
    "    'learning_rate': uniform(0.01, 0.2),\n",
    "    'subsample': uniform(0.7, 0.3),\n",
    "    'colsample_bytree': uniform(0.5, 0.5)\n",
    "}\n",
    "\n",
    "random_search = RandomizedSearchCV(\n",
    "    estimator=XGBClassifier(use_label_encoder=False, eval_metric=\"logloss\", random_state=42),\n",
    "    param_distributions=param_dist,\n",
    "    n_iter=20,\n",
    "    scoring='f1',\n",
    "    cv=5,\n",
    "    verbose=1,\n",
    "    n_jobs=-1\n",
    ")\n",
    "\n",
    "random_search.fit(X_train, y_train)\n",
    "print(\"Mejores parámetros encontrados:\")\n",
    "print(random_search.best_params_)"
   ]
  },
  {
   "cell_type": "code",
   "execution_count": null,
   "id": "76aa9b2f-4839-46bc-88e1-a0f81b155835",
   "metadata": {},
   "outputs": [],
   "source": [
    "best_random_model_xgb = XGBClassifier(\n",
    "    colsample_bytree=0.5,\n",
    "    learning_rate=0.03,\n",
    "    max_depth=3,\n",
    "    n_estimators=200,\n",
    "    subsample=1.0,\n",
    "    use_label_encoder=False,\n",
    "    eval_metric=\"logloss\",\n",
    "    random_state=42\n",
    ")\n",
    "\n",
    "# Entrenar\n",
    "best_random_model_xgb.fit(X_train, y_train)\n",
    "\n",
    "# Predecir\n",
    "y_pred = best_random_model_xgb.predict(X_test)\n",
    "y_proba_xgb_best = best_random_model_xgb.predict_proba(X_test)[:, 1]\n",
    "\n",
    "# Evaluar\n",
    "print(\"Matriz de confusión:\")\n",
    "print(confusion_matrix(y_test, y_pred))\n",
    "print(\"\\nInforme de clasificación:\")\n",
    "print(classification_report(y_test, y_pred))\n",
    "print(\"ROC-AUC:\", roc_auc_score(y_test, y_proba_xgb_best))"
   ]
  },
  {
   "cell_type": "code",
   "execution_count": null,
   "id": "f3453963-3713-4b21-94fb-205849b1a9c1",
   "metadata": {},
   "outputs": [],
   "source": [
    "fpr, tpr, _ = roc_curve(y_test, y_proba_xgb_best)\n",
    "plt.figure(figsize=(8,6))\n",
    "plt.plot(fpr, tpr, label=f\"ROC-AUC = {roc_auc_score(y_test, y_proba_xgb_best):.2f}\")\n",
    "plt.plot([0, 1], [0, 1], 'k--')\n",
    "plt.xlabel(\"Tasa de falsos positivos\")\n",
    "plt.ylabel(\"Tasa de verdaderos positivos\")\n",
    "plt.title(\"Curva ROC - XGBoost\")\n",
    "plt.legend()\n",
    "plt.grid()\n",
    "plt.show()"
   ]
  },
  {
   "cell_type": "code",
   "execution_count": null,
   "id": "4bd7f77b-9baf-4246-8cf9-058f196a39a5",
   "metadata": {},
   "outputs": [],
   "source": [
    "from xgboost import plot_importance\n",
    "import matplotlib.pyplot as plt\n",
    "\n",
    "# Gráfico de importancia\n",
    "plot_importance(xgb_default, importance_type='gain', max_num_features=10)\n",
    "plt.title(\"Importancia de variables según XGBoost\")\n",
    "plt.tight_layout()\n",
    "plt.show()\n"
   ]
  },
  {
   "cell_type": "code",
   "execution_count": null,
   "id": "3ed1e4ca-db58-4494-bdc2-68b9b09f0c7b",
   "metadata": {
    "scrolled": true
   },
   "outputs": [],
   "source": [
    "import pandas as pd\n",
    "import matplotlib.pyplot as plt\n",
    "import seaborn as sns\n",
    "\n",
    "\n",
    "data = {\n",
    "    \"Modelo\": [\"Regresión Logística\", \"Árbol de Decisión\", \"Random Forest\", \"XGBoost\"],\n",
    "    \"Accuracy\": [0.91, 0.92, 0.94, 0.95],\n",
    "    \"AUC\": [0.82, 0.83, 0.84, 0.86],\n",
    "    \"Falsos positivos\": [35, 18, 12, 4],\n",
    "    \"Falsos negativos\": [7, 6, 4, 4]\n",
    "}\n",
    "\n",
    "df_metrics = pd.DataFrame(data)\n",
    "\n",
    "Convertir para graficar accuracy y AUC\n",
    "df_plot1 = df_metrics.melt(id_vars=\"Modelo\", value_vars=[\"Accuracy\", \"AUC\"],\n",
    "                           var_name=\"Métrica\", value_name=\"Valor\")\n",
    "\n",
    "plt.figure(figsize=(10, 5))\n",
    "sns.barplot(data=df_plot1, x=\"Modelo\", y=\"Valor\", hue=\"Métrica\")\n",
    "plt.title(\"Comparación de Accuracy y AUC entre modelos\")\n",
    "plt.ylim(0, 1.05)\n",
    "plt.grid(axis=\"y\", linestyle=\"--\", alpha=0.6)\n",
    "plt.tight_layout()\n",
    "plt.show()\n",
    "\n",
    "\n",
    "df_plot2 = df_metrics.melt(id_vars=\"Modelo\", value_vars=[\"Falsos positivos\", \"Falsos negativos\"],\n",
    "                           var_name=\"Error\", value_name=\"Cantidad\")\n",
    "\n",
    "plt.figure(figsize=(10, 5))\n",
    "sns.barplot(data=df_plot2, x=\"Modelo\", y=\"Cantidad\", hue=\"Error\")\n",
    "plt.title(\"Comparación de errores tipo entre modelos\")\n",
    "plt.grid(axis=\"y\", linestyle=\"--\", alpha=0.6)\n",
    "plt.tight_layout()\n",
    "plt.show()\n"
   ]
  },
  {
   "cell_type": "code",
   "execution_count": null,
   "id": "46e3704d-7bd0-4b7a-b929-e4302c6a304e",
   "metadata": {},
   "outputs": [],
   "source": [
    "from sklearn.pipeline import make_pipeline\n",
    "from sklearn.model_selection import learning_curve\n",
    "from sklearn.model_selection import StratifiedKFold\n",
    "\n",
    "models = {\n",
    "    'Logistic Regression': make_pipeline(StandardScaler(), LogisticRegression()),\n",
    "    'Decision Tree': DecisionTreeClassifier(),\n",
    "    'Random Forest': RandomForestClassifier(),\n",
    "    'XGBoost': XGBClassifier(use_label_encoder=False, eval_metric='logloss')\n",
    "}\n",
    "\n",
    "plt.figure(figsize=(14, 10))\n",
    "\n",
    "for i, (name, model) in enumerate(models.items(), 1):\n",
    "    plt.subplot(2, 2, i)\n",
    "    train_sizes, train_scores, test_scores = learning_curve(\n",
    "        model, X, y,\n",
    "        cv=StratifiedKFold(n_splits=5),\n",
    "        scoring='f1',\n",
    "        n_jobs=-1,\n",
    "        train_sizes=np.linspace(0.1, 1.0, 5),\n",
    "        random_state=42\n",
    "    )\n",
    "\n",
    "    plt.plot(train_sizes, np.mean(train_scores, axis=1), 'o-', label='Train F1-score')\n",
    "    plt.plot(train_sizes, np.mean(test_scores, axis=1), 'o-', label='Test F1-score')\n",
    "    plt.title(f'{name}')\n",
    "    plt.xlabel('Tamaño del conjunto de entrenamiento')\n",
    "    plt.ylabel('F1-score')\n",
    "    plt.legend()\n",
    "    plt.grid(True)\n",
    "\n",
    "plt.tight_layout()\n",
    "plt.suptitle(\"Curvas de aprendizaje por modelo\", fontsize=16, y=1.02)\n",
    "plt.show()"
   ]
  },
  {
   "cell_type": "code",
   "execution_count": null,
   "id": "1837f8f6-a0c0-4cf7-8fbc-478b4f05c3db",
   "metadata": {},
   "outputs": [],
   "source": [
    "import numpy as np\n",
    "\n",
    "modelos = ['Regresión Log.', 'Árbol', 'RF', 'XGB']\n",
    "FN = np.array([52, 28, 28, 28])\n",
    "FP = np.array([29, 6, 4, 5])\n",
    "\n",
    "plt.figure(figsize=(8, 5))\n",
    "plt.bar(modelos, FN, label='Falsos Negativos', color='orange')\n",
    "plt.bar(modelos, FP, bottom=FN, label='Falsos Positivos', color='lightblue')\n",
    "plt.ylabel('Errores totales')\n",
    "plt.title('Total de errores por modelo (FN + FP)')\n",
    "plt.legend()\n",
    "plt.grid(axis='y')\n",
    "plt.tight_layout()\n",
    "plt.show()"
   ]
  },
  {
   "cell_type": "code",
   "execution_count": null,
   "id": "de5ccdf4-bd7f-4428-8285-b059dabf9a33",
   "metadata": {},
   "outputs": [],
   "source": [
    "import matplotlib.pyplot as plt\n",
    "import numpy as np\n",
    "import pandas as pd\n",
    "\n",
    "\n",
    "modelos = ['Regresión Log.', 'Árbol', 'RF', 'XGB']\n",
    "FN = np.array([52, 28, 28, 28])\n",
    "FP = np.array([29, 6, 4, 5])\n",
    "errores_totales = FN + FP\n",
    "\n",
    "df = pd.DataFrame({'Modelo': modelos, 'Falsos Negativos': FN, 'Falsos Positivos': FP, 'Total': errores_totales})\n",
    "df = df.sort_values('Total', ascending=False)\n",
    "\n",
    "\n",
    "x = np.arange(len(df)) * 0.7  \n",
    "width = 0.35  # más fino\n",
    "\n",
    "\n",
    "color_fn = '#F4A261'  \n",
    "   \n",
    "\n",
    "\n",
    "plt.figure(figsize=(8, 5))\n",
    "plt.bar(x, df['Falsos Negativos'], width=width, color=color_fn, label='Falsos Negativos')\n",
    "plt.bar(x, df['Falsos Positivos'], width=width, bottom=df['Falsos Negativos'], color='light', label='Falsos Positivos')\n",
    "\n",
    "\n",
    "for i in range(len(df)):\n",
    "    total = df['Total'].iloc[i]\n",
    "    plt.text(x[i], total + 1, str(total), ha='center', fontsize=9)\n",
    "\n",
    "\n",
    "plt.xticks(x, df['Modelo'], rotation=10)\n",
    "plt.ylabel('Errores totales')\n",
    "plt.title('Errores por modelo: Falsos negativos y positivos')\n",
    "plt.legend()\n",
    "plt.grid(axis='y', linestyle='--', alpha=0.4)\n",
    "plt.tight_layout()\n",
    "plt.show()\n"
   ]
  },
  {
   "cell_type": "code",
   "execution_count": null,
   "id": "7fcc0297-ac29-4363-a110-b89668bd9947",
   "metadata": {},
   "outputs": [],
   "source": [
    "from sklearn.metrics import auc\n",
    "\n",
    "fpr_log, tpr_log, _ = roc_curve(y_test, y_pred_umbral)\n",
    "fpr_tree, tpr_tree, _ = roc_curve(y_test, y_pred_best)\n",
    "fpr_rf, tpr_rf, _ = roc_curve(y_test, y_pred_rf_ajustado)\n",
    "fpr_xgb, tpr_xgb, _ = roc_curve(y_test, y_pred_xgb)\n",
    "\n",
    "auc_log = auc(fpr_log, tpr_log)\n",
    "auc_tree = auc(fpr_tree, tpr_tree)\n",
    "auc_rf = auc(fpr_rf, tpr_rf)\n",
    "auc_xgb = auc(fpr_xgb, fpr_xgb)\n",
    "\n",
    "# Plot\n",
    "plt.figure(figsize=(8, 6))\n",
    "plt.plot(fpr_log, tpr_log, label=f'Regresión logística (AUC = {auc_log:.2f})')\n",
    "plt.plot(fpr_tree, tpr_tree, label=f'Árbol de decisión (AUC = {auc_tree:.2f})')\n",
    "plt.plot(fpr_rf, tpr_rf, label=f'Random Forest (AUC = {auc_rf:.2f})')\n",
    "plt.plot(fpr_xgb, tpr_xgb, label=f'XGBoost (AUC = {auc_xgb:.2f})')\n",
    "plt.plot([0, 1], [0, 1], 'k--', label='Aleatorio (AUC = 0.5)')\n",
    "plt.xlabel('Tasa de falsos positivos')\n",
    "plt.ylabel('Tasa de verdaderos positivos')\n",
    "plt.title('Comparación de curvas ROC')\n",
    "plt.legend(loc='lower right')\n",
    "plt.grid(True)\n",
    "plt.tight_layout()\n",
    "plt.show()"
   ]
  },
  {
   "cell_type": "code",
   "execution_count": null,
   "id": "d43e4ecf-cd4c-4abf-868c-f06a5c5744f7",
   "metadata": {},
   "outputs": [],
   "source": [
    "modelo_arbol = mejor_modelo_arb  \n",
    "modelo_rf = modelo_rf_base      \n",
    "modelo_xgb = xgb_default        \n",
    "\n",
    "\n",
    "variables = X_train.columns\n",
    "\n",
    "\n",
    "df_arbol = pd.DataFrame({\n",
    "    'Variable': variables,\n",
    "    'Árbol de Decisión': mejor_modelo_arb.feature_importances_\n",
    "})\n",
    "\n",
    "df_rf = pd.DataFrame({\n",
    "    'Variable': variables,\n",
    "    'Random Forest': modelo_rf_base.feature_importances_\n",
    "})\n",
    "\n",
    "\n",
    "importancia_xgb_dict = modelo_xgb.get_booster().get_score(importance_type='gain')\n",
    "df_xgb = pd.DataFrame({\n",
    "    'Variable': list(importancia_xgb_dict.keys()),\n",
    "    'XGBoost': list(importancia_xgb_dict.values())\n",
    "})\n",
    "\n",
    "colores = {\n",
    "    'Árbol de Decisión': '#8599AA',   \n",
    "    'Random Forest': '#1f4e66',       \n",
    "    'XGBoost': '#d66c30'             \n",
    "}\n",
    "\n",
    "\n",
    "\n",
    "df_merge = df_arbol.merge(df_rf, on='Variable').merge(df_xgb, on='Variable')\n",
    "\n",
    "\n",
    "top_vars = df_merge.set_index('Variable').mean(axis=1).sort_values(ascending=False).head(4).index\n",
    "df_top.set_index('Variable')[list(colores.keys())].plot(\n",
    "    kind='barh',\n",
    "    figsize=(10, 6),\n",
    "    color=[colores[col] for col in colores]\n",
    ")\n",
    "\n",
    "\n",
    "df_top.set_index('Variable').plot(kind='barh', figsize=(10, 6))\n",
    "plt.title(\"Comparación de importancia de variables entre modelos\")\n",
    "plt.xlabel(\"Importancia normalizada\")\n",
    "plt.legend(title=\"Modelo\")\n",
    "plt.grid(True, axis='x', linestyle='--', alpha=0.6)\n",
    "plt.tight_layout()\n",
    "plt.show()"
   ]
  },
  {
   "cell_type": "code",
   "execution_count": null,
   "id": "d4b4042a-2c00-43a6-9c13-9e3d80b7b806",
   "metadata": {},
   "outputs": [],
   "source": [
    "modelo_arbol = mejor_modelo_arb  \n",
    "modelo_rf = modelo_rf_base      \n",
    "modelo_xgb = xgb_default        \n",
    "\n",
    "\n",
    "variables = X_train.columns\n",
    "\n",
    "\n",
    "df_arbol = pd.DataFrame({\n",
    "    'Variable': variables,\n",
    "    'Árbol de Decisión': mejor_modelo_arb.feature_importances_\n",
    "})\n",
    "\n",
    "df_rf = pd.DataFrame({\n",
    "    'Variable': variables,\n",
    "    'Random Forest': modelo_rf_base.feature_importances_\n",
    "})\n",
    "\n",
    "\n",
    "importancia_xgb_dict = modelo_xgb.get_booster().get_score(importance_type='gain')\n",
    "df_xgb = pd.DataFrame({\n",
    "    'Variable': list(importancia_xgb_dict.keys()),\n",
    "    'XGBoost': list(importancia_xgb_dict.values())\n",
    "})\n",
    "\n",
    "colores = {\n",
    "    'Árbol de Decisión': '#8599AA',   \n",
    "    'Random Forest': '#1f4e66',       \n",
    "    'XGBoost': '#d66c30'             \n",
    "}\n",
    "\n",
    "\n",
    "\n",
    "df_merge = df_arbol.merge(df_rf, on='Variable').merge(df_xgb, on='Variable')\n",
    "\n",
    "\n",
    "top_vars = df_merge.set_index('Variable').mean(axis=1).sort_values(ascending=False).head(4).index\n",
    "df_top.set_index('Variable')[list(colores.keys())].plot(\n",
    "    kind='barh',\n",
    "    figsize=(10, 6),\n",
    "    color=[colores[col] for col in colores]\n",
    ")\n",
    "\n",
    "\n",
    "\n",
    "plt.title(\"Comparación de importancia de variables entre modelos\")\n",
    "plt.xlabel(\"Importancia normalizada\")\n",
    "plt.legend(title=\"Modelo\")\n",
    "plt.grid(True, axis='x', linestyle='', alpha=0.6)\n",
    "plt.tight_layout()\n",
    "plt.show()"
   ]
  },
  {
   "cell_type": "code",
   "execution_count": null,
   "id": "0aeda9f1-8bfb-49f0-91a1-393223d7234a",
   "metadata": {},
   "outputs": [],
   "source": [
    "cm1 = np.array([[51, 52],\n",
    "                [29, 516]])\n",
    "\n",
    "cm2 = np.array([[75, 28],\n",
    "                [6, 539]])\n",
    "\n",
    "cm3 = np.array([[75, 28],\n",
    "                [4, 541]])\n",
    "\n",
    "cm4 = np.array([[75, 28],\n",
    "                [4, 541]])\n",
    "\n",
    "matrices = [cm1, cm2, cm3, cm4]\n",
    "titles = [\"Regresión Logística\", \"Árbol de decisión\", \"Random Forest\", \"XGBoost\"]\n",
    "\n",
    "fig, axes = plt.subplots(2, 2, figsize=(12, 10))\n",
    "\n",
    "for i, ax in enumerate(axes.flat):\n",
    "    sns.heatmap(matrices[i], annot=True, fmt=\"d\", cmap=\"Reds\", cbar=False,\n",
    "                ax=ax)\n",
    "    ax.set_title(titles[i])\n",
    "    ax.set_xlabel(\"Predicted\")\n",
    "    ax.set_ylabel(\"Actual\")\n",
    "\n",
    "plt.tight_layout()\n",
    "plt.show()"
   ]
  },
  {
   "cell_type": "code",
   "execution_count": null,
   "id": "91b4b628-9714-4aa1-99c6-625ed0bf5509",
   "metadata": {},
   "outputs": [],
   "source": []
  }
 ],
 "metadata": {
  "kernelspec": {
   "display_name": "Python [conda env:base] *",
   "language": "python",
   "name": "conda-base-py"
  },
  "language_info": {
   "codemirror_mode": {
    "name": "ipython",
    "version": 3
   },
   "file_extension": ".py",
   "mimetype": "text/x-python",
   "name": "python",
   "nbconvert_exporter": "python",
   "pygments_lexer": "ipython3",
   "version": "3.12.7"
  }
 },
 "nbformat": 4,
 "nbformat_minor": 5
}
